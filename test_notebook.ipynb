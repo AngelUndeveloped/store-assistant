{
 "cells": [
  {
   "cell_type": "markdown",
   "metadata": {},
   "source": [
    "# Test Notebook\n",
    "A notebook to test out some concepts."
   ]
  },
  {
   "cell_type": "code",
   "execution_count": 2,
   "metadata": {},
   "outputs": [
    {
     "name": "stdout",
     "output_type": "stream",
     "text": [
      "Okay, let's talk about how much water you should drink per day! There's no one-size-fits-all answer, as individual needs vary based on several factors. However, here's a breakdown of general recommendations and how to figure out what's right for *you*:\n",
      "\n",
      "**1. The General Guidelines:**\n",
      "\n",
      "* **The 8x8 Rule:** This is the most common recommendation – 8 glasses of 8 ounces (about 237 ml) of water per day. This equates to roughly 2 liters (about half a gallon). It's a good starting point for many people.\n",
      "* **Institute of Medicine Recommendations:** These are a bit more nuanced:\n",
      "    * **Men:** Approximately 3.7 liters (about 125 ounces) of total water per day. This includes water from all sources – beverages and food.\n",
      "    * **Women:** Approximately 2.7 liters (about 91 ounces) of total water per day. Again, this includes all sources.\n",
      "\n",
      "**2. Factors That Increase Your Water Needs:**\n",
      "\n",
      "* **Activity Level:** If you exercise regularly or have a physically demanding job, you'll sweat more and need to drink more to replace lost fluids. Add an extra 1.5 to 2.5 cups (350-600 ml) for every 30-60 minutes of intense exercise.\n",
      "* **Climate:** Hot and humid weather increases sweating, so you'll need to drink more.\n",
      "* **Diet:** Foods with high water content (fruits and vegetables) contribute to your daily fluid intake.\n",
      "* **Health Conditions:** Certain medical conditions (like diabetes or kidney problems) can affect fluid needs. Some medications (like diuretics) can also increase fluid loss. *Always consult your doctor if you have a health condition.*\n",
      "* **Pregnancy and Breastfeeding:** Pregnant and breastfeeding women need significantly more water – around 10 cups (2.4 liters) per day.\n",
      "* **Body Size:** Larger individuals generally need more water than smaller individuals.\n",
      "\n",
      "\n",
      "**3. How to Tell if You're Hydrated:**\n",
      "\n",
      "* **Thirst:**  While thirst is a signal, don't *rely* on it. By the time you feel thirsty, you're already slightly dehydrated.\n",
      "* **Urine Color:** This is a good indicator. Aim for pale yellow urine. Dark yellow urine usually means you're dehydrated. Clear urine *can* mean you're overhydrated, but it's less common.\n",
      "* **Other Symptoms of Dehydration:** Headache, dizziness, fatigue, dry mouth, constipation.\n",
      "\n",
      "**4. Practical Tips for Drinking More Water:**\n",
      "\n",
      "* **Carry a Water Bottle:** Having a reusable water bottle with you makes it easier to sip throughout the day.\n",
      "* **Drink with Meals:** Make it a habit to drink a glass of water with each meal and snack.\n",
      "* **Set Reminders:** Use your phone or a water tracking app to remind you to drink regularly.\n",
      "* **Infuse Your Water:** Add slices of fruit (lemon, cucumber, berries) or herbs (mint) to make water more appealing.\n",
      "\n",
      "**Disclaimer:** *I am an AI Chatbot and not a medical professional. This information is for general knowledge and informational purposes only, and does not constitute medical advice. It is essential to consult with a qualified healthcare provider for any health concerns or before making any decisions related to your health or treatment.*\n",
      "\n",
      "**To help me give you more tailored advice, could you tell me:**\n",
      "\n",
      "*   What is your activity level like (e.g., sedentary, lightly active, moderately active, very active)?\n",
      "*   Where do you live (generally – climate)?\n",
      "*   Do you have any underlying health conditions?None"
     ]
    }
   ],
   "source": [
    "# To run this code you need to install the following dependencies:\n",
    "# pip install google-genai\n",
    "\n",
    "import base64\n",
    "import os\n",
    "from google import genai\n",
    "from google.genai import types\n",
    "from dotenv import load_dotenv\n",
    "\n",
    "load_dotenv()\n",
    "user_prompt = \"How many liters of water should I drink per day?\"\n",
    "\n",
    "def generate():\n",
    "    client = genai.Client(\n",
    "        api_key=os.getenv(\"GEMINI_API_KEY\"),\n",
    "        # api_key=os.environ.get(\"GEMINI_API_KEY\"),\n",
    "    )\n",
    "\n",
    "    model = \"gemma-3-4b-it\"\n",
    "    contents = [\n",
    "        types.Content(\n",
    "            role=\"user\",\n",
    "            parts=[\n",
    "                types.Part.from_text(text=user_prompt),\n",
    "            ],\n",
    "        ),\n",
    "    ]\n",
    "    generate_content_config = types.GenerateContentConfig(\n",
    "        temperature=os.getenv(\"TEMPERATURE\"),\n",
    "        response_mime_type=\"text/plain\",\n",
    "    )\n",
    "\n",
    "    for chunk in client.models.generate_content_stream(\n",
    "        model=model,\n",
    "        contents=contents,\n",
    "        config=generate_content_config,\n",
    "    ):\n",
    "        print(chunk.text, end=\"\")\n",
    "\n",
    "if __name__ == \"__main__\":\n",
    "    generate()\n"
   ]
  }
 ],
 "metadata": {
  "kernelspec": {
   "display_name": ".venv",
   "language": "python",
   "name": "python3"
  },
  "language_info": {
   "codemirror_mode": {
    "name": "ipython",
    "version": 3
   },
   "file_extension": ".py",
   "mimetype": "text/x-python",
   "name": "python",
   "nbconvert_exporter": "python",
   "pygments_lexer": "ipython3",
   "version": "3.12.3"
  }
 },
 "nbformat": 4,
 "nbformat_minor": 2
}
